{
 "cells": [
  {
   "cell_type": "markdown",
   "metadata": {},
   "source": [
    "# Exercício 2\n",
    "\n",
    "Dada a função $f(x) = -1 -\\frac{N}{19}$ $\\forall$ $-\\pi < x < 0$ e $f(x) = 1 + \\frac{N}{19}$ $\\forall$ $0 < x < \\pi$ use o método da projeção para determinar as componentes desta função neste intervalo $-\\pi < x < \\pi$ na \"base\" composta pelas funções 1, $sen$ $kx$, $cos$ $kx$ com k = 1 até 5.  "
   ]
  },
  {
   "cell_type": "markdown",
   "metadata": {},
   "source": [
    "#### Resolução\n",
    "\n"
   ]
  },
  {
   "cell_type": "code",
   "execution_count": null,
   "metadata": {},
   "outputs": [],
   "source": []
  }
 ],
 "metadata": {
  "language_info": {
   "name": "python"
  }
 },
 "nbformat": 4,
 "nbformat_minor": 2
}
