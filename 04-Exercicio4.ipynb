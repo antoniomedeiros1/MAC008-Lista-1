{
 "cells": [
  {
   "cell_type": "markdown",
   "metadata": {},
   "source": [
    "# Exercício 4\n",
    "\n",
    "Dada uma barra com uma carga $P$ aplicada no meio do seu vão, conforme indicado na Figura, pede-se, utilizando elementos finitos lineares, calcular os deslocamentos da mesma adotando-se uma divisão de 2, 4 e 6 elementos lineares. Comparar os campos de deslocamentos obtidos com os deslocamentos exatos para o problema em questão. Considere:\n",
    "\n",
    "* $EA = 10^5 \\cdot (N + 1)$ (Newton) \n",
    "* $P = (N + 1) \\cdot 10^3$ (Newton)\n",
    "* $l = 2 + \\frac{N+1}{20}$ (metro)\n",
    "\n"
   ]
  },
  {
   "cell_type": "markdown",
   "metadata": {},
   "source": [
    "#### Resolução\n",
    "\n"
   ]
  },
  {
   "cell_type": "markdown",
   "metadata": {},
   "source": [
    "### Substituindo $N$\n",
    "\n",
    "Substituindo $N = 0$, temos:\n",
    "\n",
    "* $EA = 10^5$ (Newton)\n",
    "* $P = 10^3$ (Newton)\n",
    "* $l = \\frac{41}{20}$ (metro)"
   ]
  },
  {
   "cell_type": "markdown",
   "metadata": {},
   "source": [
    "### Equação do problema\n",
    "\n",
    "$$\n",
    "-EA \\frac{\\partial ^2 u(x)}{\\partial x^2} = P \\delta \\left( x-\\frac{L}{2} \\right), 0 \\leq x \\leq L\n",
    "$$\n",
    "\n",
    "onde $\\delta$ é a função delta de Dirac."
   ]
  },
  {
   "cell_type": "markdown",
   "metadata": {},
   "source": [
    "### Condições de Contorno\n",
    "\n",
    "Da figura, temos que $u(0) = 0$ (condição de Dirichlet)."
   ]
  },
  {
   "cell_type": "markdown",
   "metadata": {},
   "source": [
    "### Aproximação Linear\n",
    "\n",
    "Neste problema utilizaremos somente a aproximação linear, na forma:\n",
    "\n",
    "$$\n",
    "u = u_1 \\phi_1 + u_2 \\phi_2\n",
    "$$"
   ]
  },
  {
   "cell_type": "markdown",
   "metadata": {},
   "source": [
    "## Aproximação com 2 Elementos\n",
    "\n"
   ]
  },
  {
   "cell_type": "markdown",
   "metadata": {},
   "source": [
    "### Definindo variáveis e calculando $h$"
   ]
  },
  {
   "cell_type": "code",
   "execution_count": 2,
   "metadata": {},
   "outputs": [],
   "source": [
    "import sympy as sp\n",
    "\n",
    "E, A, P, x, h, K, L = sp.symbols('E A P x h K L')\n",
    "\n",
    "n_elements = 2\n",
    "h = L/n_elements"
   ]
  },
  {
   "cell_type": "markdown",
   "metadata": {},
   "source": [
    "### Matriz de Rigidez por elemento\n",
    "\n",
    "Inicialmente, calculamos a matriz de rigidez conforme calculado no exercício anterior:"
   ]
  },
  {
   "cell_type": "code",
   "execution_count": 3,
   "metadata": {},
   "outputs": [
    {
     "data": {
      "text/latex": [
       "$\\displaystyle \\left[\\begin{matrix}\\frac{2 A E}{L} & - \\frac{2 A E}{L}\\\\- \\frac{2 A E}{L} & \\frac{2 A E}{L}\\end{matrix}\\right]$"
      ],
      "text/plain": [
       "Matrix([\n",
       "[ 2*A*E/L, -2*A*E/L],\n",
       "[-2*A*E/L,  2*A*E/L]])"
      ]
     },
     "metadata": {},
     "output_type": "display_data"
    }
   ],
   "source": [
    "phi_1 = 1 - x/h\n",
    "phi_2 = x/h\n",
    "\n",
    "K = E * A * sp.Matrix([\n",
    "    [sp.integrate(sp.diff(phi_1, x) * sp.diff(phi_1, x), (x, 0, h)), sp.integrate(sp.diff(phi_1, x) * sp.diff(phi_2, x), (x, 0, h))], \n",
    "    [sp.integrate(sp.diff(phi_2, x) * sp.diff(phi_1, x), (x, 0, h)), sp.integrate(sp.diff(phi_2, x) * sp.diff(phi_2, x), (x, 0, h))]\n",
    "])\n",
    "display(K)"
   ]
  },
  {
   "cell_type": "markdown",
   "metadata": {},
   "source": [
    "### Matriz de Rigidez Global\n",
    "\n",
    "Diferentemente da aproximação linear abordada anteriormente, neste caso como temos mais do que apenas 1 elemento, será necessário calcular a Matriz de Rigidez Global conforme:\n",
    "\n",
    "$$\n",
    "K =\n",
    "\\begin{bmatrix}\n",
    "k_{11}^1    & k_{12}^1              & 0                     & 0 & \\cdots & 0 & 0 \\\\ \n",
    "k_{21}^1    & k_{22}^1 + k_{11}^2   & k_{12}^2              & 0 & \\cdots & 0 & 0 \\\\ \n",
    "0           & k_{21}^2              & k_{12}^2 + k_{11}^3   & k_{12}^3 & \\cdots & 0 & 0 \\\\ \n",
    "\\vdots & \\vdots & \\vdots & \\vdots & \\ddots & \\vdots & \\vdots \\\\ \n",
    "0 & 0 & 0 & 0 & \\cdots & k_{21}^e & k_{22}^e\n",
    "\\end{bmatrix}\n",
    "$$\n",
    "\n",
    "onde $e$ é o número de elementos.\n"
   ]
  },
  {
   "cell_type": "code",
   "execution_count": 4,
   "metadata": {},
   "outputs": [
    {
     "data": {
      "text/latex": [
       "$\\displaystyle \\left[\\begin{matrix}\\frac{2 A E}{L} & - \\frac{2 A E}{L} & 0\\\\- \\frac{2 A E}{L} & \\frac{4 A E}{L} & - \\frac{2 A E}{L}\\\\0 & - \\frac{2 A E}{L} & \\frac{2 A E}{L}\\end{matrix}\\right]$"
      ],
      "text/plain": [
       "Matrix([\n",
       "[ 2*A*E/L, -2*A*E/L,        0],\n",
       "[-2*A*E/L,  4*A*E/L, -2*A*E/L],\n",
       "[       0, -2*A*E/L,  2*A*E/L]])"
      ]
     },
     "metadata": {},
     "output_type": "display_data"
    }
   ],
   "source": [
    "K_G = sp.zeros(n_elements + 1)\n",
    "\n",
    "for i in range(n_elements):\n",
    "    K_G[i:i+2, i:i+2] += K\n",
    "\n",
    "display(K_G)"
   ]
  },
  {
   "cell_type": "markdown",
   "metadata": {},
   "source": [
    "### Vetor Fonte Global"
   ]
  },
  {
   "cell_type": "code",
   "execution_count": 7,
   "metadata": {},
   "outputs": [
    {
     "data": {
      "text/latex": [
       "$\\displaystyle \\left[\\begin{matrix}0\\\\P\\\\0\\end{matrix}\\right]$"
      ],
      "text/plain": [
       "Matrix([\n",
       "[0],\n",
       "[P],\n",
       "[0]])"
      ]
     },
     "metadata": {},
     "output_type": "display_data"
    }
   ],
   "source": [
    "def dirac(d):\n",
    "    if d == L/2:\n",
    "        return 1\n",
    "    return 0\n",
    "\n",
    "F = sp.zeros(n_elements + 1, 1)\n",
    "\n",
    "for i in range(n_elements):\n",
    "    F[i, 0] = P * dirac(i*h)\n",
    "\n",
    "display(F)"
   ]
  },
  {
   "cell_type": "markdown",
   "metadata": {},
   "source": [
    "### Aplicando Condições de Contorno\n",
    "\n"
   ]
  }
 ],
 "metadata": {
  "kernelspec": {
   "display_name": ".venv",
   "language": "python",
   "name": "python3"
  },
  "language_info": {
   "codemirror_mode": {
    "name": "ipython",
    "version": 3
   },
   "file_extension": ".py",
   "mimetype": "text/x-python",
   "name": "python",
   "nbconvert_exporter": "python",
   "pygments_lexer": "ipython3",
   "version": "3.10.12"
  }
 },
 "nbformat": 4,
 "nbformat_minor": 2
}
