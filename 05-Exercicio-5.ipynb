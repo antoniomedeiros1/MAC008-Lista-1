{
 "cells": [
  {
   "cell_type": "markdown",
   "metadata": {},
   "source": [
    "### Exercício 5\n",
    "\n",
    "Considerando a barra do exercício anterior com a carga $P$ aplicada na sua extremidade livre, com $EA$ igual a deste exercício, utilizando-se uma divisão com 7 elementos finitos com aproximações lineares, cada um com um comprimento diferente denominados por $h_1$ a $h_7$, sendo $h_1 = \\frac{l}{10}$ e $h_i = h_1 + \\frac{i*l}{70}$ para $i = 2$ a $7$ pede-se montar a matriz de rigidez global para a numeração conforme indicado abaixo.\n",
    "Cada aluno deve adotar uma numeração dos nós dependente do valor de N, associado conforme a tabela fornecida em função do seu número de ordem na lista de chamada. Determine também a matriz de rigidez para uma numeração sequencial dos nós da malha.\n",
    "\n",
    "1 - Apresente as matrizes de cada elemento para o valor de N associado ao seu caso.\n",
    "\n",
    "2 - Apresente a matriz de conectividade adotada para a numeração escolhida\n",
    "\n",
    "3 - Apresente as matrizes globais resultante da composição das matrizes individuais\n",
    "\n",
    "4 - Apresente a solução obtida e compare graficamente com a solução exata do problema\n"
   ]
  },
  {
   "cell_type": "code",
   "execution_count": null,
   "metadata": {},
   "outputs": [],
   "source": []
  }
 ],
 "metadata": {
  "language_info": {
   "name": "python"
  }
 },
 "nbformat": 4,
 "nbformat_minor": 2
}
