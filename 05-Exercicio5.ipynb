{
 "cells": [
  {
   "cell_type": "markdown",
   "metadata": {},
   "source": [
    "# Exercício 5\n",
    "\n",
    "Considerando a barra do exercício anterior com a carga $P$ aplicada na sua extremidade livre, com $EA$ igual a deste exercício, utilizando-se uma divisão com 7 elementos finitos com aproximações lineares, cada um com um comprimento diferente denominados por $h_1$ a $h_7$, sendo $h_1 = \\frac{l}{10}$ e $h_i = h_1 + \\frac{i*l}{70}$ para $i = 2$ a $7$ pede-se montar a matriz de rigidez global para a numeração conforme indicado abaixo.\n",
    "Cada aluno deve adotar uma numeração dos nós dependente do valor de N, associado conforme a tabela fornecida em função do seu número de ordem na lista de chamada. Determine também a matriz de rigidez para uma numeração sequencial dos nós da malha.\n",
    "\n",
    "1 - Apresente as matrizes de cada elemento para o valor de N associado ao seu caso.\n",
    "\n",
    "2 - Apresente a matriz de conectividade adotada para a numeração escolhida\n",
    "\n",
    "3 - Apresente as matrizes globais resultante da composição das matrizes individuais\n",
    "\n",
    "4 - Apresente a solução obtida e compare graficamente com a solução exata do problema\n"
   ]
  },
  {
   "cell_type": "markdown",
   "metadata": {},
   "source": [
    "## Resolução"
   ]
  },
  {
   "cell_type": "markdown",
   "metadata": {},
   "source": [
    "### Equação do Problema\n",
    "\n",
    "Temos que o problema é descrito pela equação:\n",
    "\n",
    "$$\n",
    "EA \\frac{d^2 u(x)}{dx^2} = P \\delta(x - a), 0 \\leq x \\leq L\n",
    "$$\n",
    "\n",
    "onde $a = L$."
   ]
  },
  {
   "cell_type": "markdown",
   "metadata": {},
   "source": [
    "### Numeração dos nós\n",
    "\n",
    "A numeração para $N = 0$ será:\n",
    "\n",
    "$$\n",
    "\\begin{bmatrix}\n",
    "1 & 3 & 5 & 7 & 2 & 6 & 4\n",
    "\\end{bmatrix}\n",
    "$$"
   ]
  },
  {
   "cell_type": "markdown",
   "metadata": {},
   "source": [
    "### Cáculo dos comprimentos dos elementos\n",
    "\n",
    "Consideraremos o  parâmetro $l = 20$ para o cálculo do tamanho dos elementos:"
   ]
  },
  {
   "cell_type": "code",
   "execution_count": 14,
   "metadata": {},
   "outputs": [
    {
     "data": {
      "text/latex": [
       "$\\displaystyle h_{1} = 2.0$"
      ],
      "text/plain": [
       "Eq(h_1, 2.0)"
      ]
     },
     "metadata": {},
     "output_type": "display_data"
    },
    {
     "data": {
      "text/latex": [
       "$\\displaystyle h_{2} = 2.28571428571429$"
      ],
      "text/plain": [
       "Eq(h_2, 2.28571428571429)"
      ]
     },
     "metadata": {},
     "output_type": "display_data"
    },
    {
     "data": {
      "text/latex": [
       "$\\displaystyle h_{3} = 2.57142857142857$"
      ],
      "text/plain": [
       "Eq(h_3, 2.57142857142857)"
      ]
     },
     "metadata": {},
     "output_type": "display_data"
    },
    {
     "data": {
      "text/latex": [
       "$\\displaystyle h_{4} = 2.85714285714286$"
      ],
      "text/plain": [
       "Eq(h_4, 2.85714285714286)"
      ]
     },
     "metadata": {},
     "output_type": "display_data"
    },
    {
     "data": {
      "text/latex": [
       "$\\displaystyle h_{5} = 3.14285714285714$"
      ],
      "text/plain": [
       "Eq(h_5, 3.14285714285714)"
      ]
     },
     "metadata": {},
     "output_type": "display_data"
    },
    {
     "data": {
      "text/latex": [
       "$\\displaystyle h_{6} = 3.42857142857143$"
      ],
      "text/plain": [
       "Eq(h_6, 3.42857142857143)"
      ]
     },
     "metadata": {},
     "output_type": "display_data"
    },
    {
     "data": {
      "text/latex": [
       "$\\displaystyle h_{7} = 3.71428571428571$"
      ],
      "text/plain": [
       "Eq(h_7, 3.71428571428571)"
      ]
     },
     "metadata": {},
     "output_type": "display_data"
    }
   ],
   "source": [
    "import sympy as sp\n",
    "\n",
    "h1, h2, h3, h4, h5, h6, h7 = sp.symbols('h_1 h_2 h_3 h_4 h_5 h_6 h_7')\n",
    "\n",
    "l = 20\n",
    "\n",
    "hi = [h1, h2, h3, h4, h5, h6, h7]\n",
    "hl = [l/10]\n",
    "display(sp.Eq(hi[0], hl[0]))\n",
    "\n",
    "for i in range(1,7):\n",
    "    hl.append(hl[0] + (i*l)/70)\n",
    "    display(sp.Eq(hi[i], hl[i]))\n",
    "\n"
   ]
  },
  {
   "cell_type": "markdown",
   "metadata": {},
   "source": [
    "### 1- Matrizes de cada elemento"
   ]
  },
  {
   "cell_type": "code",
   "execution_count": 19,
   "metadata": {},
   "outputs": [],
   "source": [
    "EA, x, h, k1, k2, k3, k4, k5, k6, k7 = sp.symbols('EA x h k_1 k_2 k_3 k_4 k_5 k_6 k_7')\n",
    "\n",
    "phi_1 = 1 - x/h\n",
    "phi_2 = x/h"
   ]
  },
  {
   "cell_type": "markdown",
   "metadata": {},
   "source": [
    "#### $k_1$"
   ]
  },
  {
   "cell_type": "code",
   "execution_count": 17,
   "metadata": {},
   "outputs": [
    {
     "data": {
      "text/latex": [
       "$\\displaystyle \\left[\\begin{matrix}0.5 EA & - 0.5 EA\\\\- 0.5 EA & 0.5 EA\\end{matrix}\\right]$"
      ],
      "text/plain": [
       "Matrix([\n",
       "[ 0.5*EA, -0.5*EA],\n",
       "[-0.5*EA,  0.5*EA]])"
      ]
     },
     "metadata": {},
     "output_type": "display_data"
    }
   ],
   "source": [
    "k1 = EA * sp.Matrix([\n",
    "    [sp.integrate(sp.diff(phi_1, x) * sp.diff(phi_1, x), (x, 0, h)), sp.integrate(sp.diff(phi_1, x) * sp.diff(phi_2, x), (x, 0, h))], \n",
    "    [sp.integrate(sp.diff(phi_2, x) * sp.diff(phi_1, x), (x, 0, h)), sp.integrate(sp.diff(phi_2, x) * sp.diff(phi_2, x), (x, 0, h))]\n",
    "]).subs({h: hl[0]})\n",
    "display(k1)"
   ]
  },
  {
   "cell_type": "markdown",
   "metadata": {},
   "source": [
    "#### $k_2$"
   ]
  },
  {
   "cell_type": "code",
   "execution_count": 20,
   "metadata": {},
   "outputs": [
    {
     "data": {
      "text/latex": [
       "$\\displaystyle \\left[\\begin{matrix}0.4375 EA & - 0.4375 EA\\\\- 0.4375 EA & 0.4375 EA\\end{matrix}\\right]$"
      ],
      "text/plain": [
       "Matrix([\n",
       "[ 0.4375*EA, -0.4375*EA],\n",
       "[-0.4375*EA,  0.4375*EA]])"
      ]
     },
     "metadata": {},
     "output_type": "display_data"
    }
   ],
   "source": [
    "k2 = EA * sp.Matrix([\n",
    "    [sp.integrate(sp.diff(phi_1, x) * sp.diff(phi_1, x), (x, 0, h)), sp.integrate(sp.diff(phi_1, x) * sp.diff(phi_2, x), (x, 0, h))], \n",
    "    [sp.integrate(sp.diff(phi_2, x) * sp.diff(phi_1, x), (x, 0, h)), sp.integrate(sp.diff(phi_2, x) * sp.diff(phi_2, x), (x, 0, h))]\n",
    "]).subs({h: hl[1]})\n",
    "display(k2)"
   ]
  },
  {
   "cell_type": "markdown",
   "metadata": {},
   "source": [
    "#### $k_3$"
   ]
  },
  {
   "cell_type": "code",
   "execution_count": 21,
   "metadata": {},
   "outputs": [
    {
     "data": {
      "text/latex": [
       "$\\displaystyle \\left[\\begin{matrix}0.388888888888889 EA & - 0.388888888888889 EA\\\\- 0.388888888888889 EA & 0.388888888888889 EA\\end{matrix}\\right]$"
      ],
      "text/plain": [
       "Matrix([\n",
       "[ 0.388888888888889*EA, -0.388888888888889*EA],\n",
       "[-0.388888888888889*EA,  0.388888888888889*EA]])"
      ]
     },
     "metadata": {},
     "output_type": "display_data"
    }
   ],
   "source": [
    "k3 = EA * sp.Matrix([\n",
    "    [sp.integrate(sp.diff(phi_1, x) * sp.diff(phi_1, x), (x, 0, h)), sp.integrate(sp.diff(phi_1, x) * sp.diff(phi_2, x), (x, 0, h))], \n",
    "    [sp.integrate(sp.diff(phi_2, x) * sp.diff(phi_1, x), (x, 0, h)), sp.integrate(sp.diff(phi_2, x) * sp.diff(phi_2, x), (x, 0, h))]\n",
    "]).subs({h: hl[2]})\n",
    "display(k3)"
   ]
  },
  {
   "cell_type": "markdown",
   "metadata": {},
   "source": [
    "#### $k_4$"
   ]
  },
  {
   "cell_type": "code",
   "execution_count": 23,
   "metadata": {},
   "outputs": [
    {
     "data": {
      "text/latex": [
       "$\\displaystyle \\left[\\begin{matrix}0.35 EA & - 0.35 EA\\\\- 0.35 EA & 0.35 EA\\end{matrix}\\right]$"
      ],
      "text/plain": [
       "Matrix([\n",
       "[ 0.35*EA, -0.35*EA],\n",
       "[-0.35*EA,  0.35*EA]])"
      ]
     },
     "metadata": {},
     "output_type": "display_data"
    }
   ],
   "source": [
    "k4 = EA * sp.Matrix([\n",
    "    [sp.integrate(sp.diff(phi_1, x) * sp.diff(phi_1, x), (x, 0, h)), sp.integrate(sp.diff(phi_1, x) * sp.diff(phi_2, x), (x, 0, h))], \n",
    "    [sp.integrate(sp.diff(phi_2, x) * sp.diff(phi_1, x), (x, 0, h)), sp.integrate(sp.diff(phi_2, x) * sp.diff(phi_2, x), (x, 0, h))]\n",
    "]).subs({h: hl[3]})\n",
    "display(k4)"
   ]
  },
  {
   "cell_type": "markdown",
   "metadata": {},
   "source": [
    "#### $k_5$"
   ]
  },
  {
   "cell_type": "code",
   "execution_count": 24,
   "metadata": {},
   "outputs": [
    {
     "data": {
      "text/latex": [
       "$\\displaystyle \\left[\\begin{matrix}0.318181818181818 EA & - 0.318181818181818 EA\\\\- 0.318181818181818 EA & 0.318181818181818 EA\\end{matrix}\\right]$"
      ],
      "text/plain": [
       "Matrix([\n",
       "[ 0.318181818181818*EA, -0.318181818181818*EA],\n",
       "[-0.318181818181818*EA,  0.318181818181818*EA]])"
      ]
     },
     "metadata": {},
     "output_type": "display_data"
    }
   ],
   "source": [
    "k5 = EA * sp.Matrix([\n",
    "    [sp.integrate(sp.diff(phi_1, x) * sp.diff(phi_1, x), (x, 0, h)), sp.integrate(sp.diff(phi_1, x) * sp.diff(phi_2, x), (x, 0, h))], \n",
    "    [sp.integrate(sp.diff(phi_2, x) * sp.diff(phi_1, x), (x, 0, h)), sp.integrate(sp.diff(phi_2, x) * sp.diff(phi_2, x), (x, 0, h))]\n",
    "]).subs({h: hl[4]})\n",
    "display(k5)"
   ]
  },
  {
   "cell_type": "markdown",
   "metadata": {},
   "source": [
    "#### $k_6$"
   ]
  },
  {
   "cell_type": "code",
   "execution_count": 25,
   "metadata": {},
   "outputs": [
    {
     "data": {
      "text/latex": [
       "$\\displaystyle \\left[\\begin{matrix}0.291666666666667 EA & - 0.291666666666667 EA\\\\- 0.291666666666667 EA & 0.291666666666667 EA\\end{matrix}\\right]$"
      ],
      "text/plain": [
       "Matrix([\n",
       "[ 0.291666666666667*EA, -0.291666666666667*EA],\n",
       "[-0.291666666666667*EA,  0.291666666666667*EA]])"
      ]
     },
     "metadata": {},
     "output_type": "display_data"
    }
   ],
   "source": [
    "k6 = EA * sp.Matrix([\n",
    "    [sp.integrate(sp.diff(phi_1, x) * sp.diff(phi_1, x), (x, 0, h)), sp.integrate(sp.diff(phi_1, x) * sp.diff(phi_2, x), (x, 0, h))], \n",
    "    [sp.integrate(sp.diff(phi_2, x) * sp.diff(phi_1, x), (x, 0, h)), sp.integrate(sp.diff(phi_2, x) * sp.diff(phi_2, x), (x, 0, h))]\n",
    "]).subs({h: hl[5]})\n",
    "display(k6)"
   ]
  },
  {
   "cell_type": "markdown",
   "metadata": {},
   "source": [
    "#### $k_7$"
   ]
  },
  {
   "cell_type": "code",
   "execution_count": 27,
   "metadata": {},
   "outputs": [
    {
     "data": {
      "text/latex": [
       "$\\displaystyle \\left[\\begin{matrix}0.269230769230769 EA & - 0.269230769230769 EA\\\\- 0.269230769230769 EA & 0.269230769230769 EA\\end{matrix}\\right]$"
      ],
      "text/plain": [
       "Matrix([\n",
       "[ 0.269230769230769*EA, -0.269230769230769*EA],\n",
       "[-0.269230769230769*EA,  0.269230769230769*EA]])"
      ]
     },
     "metadata": {},
     "output_type": "display_data"
    }
   ],
   "source": [
    "k7 = EA * sp.Matrix([\n",
    "    [sp.integrate(sp.diff(phi_1, x) * sp.diff(phi_1, x), (x, 0, h)), sp.integrate(sp.diff(phi_1, x) * sp.diff(phi_2, x), (x, 0, h))], \n",
    "    [sp.integrate(sp.diff(phi_2, x) * sp.diff(phi_1, x), (x, 0, h)), sp.integrate(sp.diff(phi_2, x) * sp.diff(phi_2, x), (x, 0, h))]\n",
    "]).subs({h: hl[6]})\n",
    "display(k7)"
   ]
  },
  {
   "cell_type": "markdown",
   "metadata": {},
   "source": [
    "### 2- Matriz de conectividade "
   ]
  },
  {
   "cell_type": "markdown",
   "metadata": {},
   "source": [
    "$$\n",
    "\\begin{bmatrix}\n",
    "1 & 3 \\\\\n",
    "3 & 5 \\\\\n",
    "5 & 7 \\\\\n",
    "7 & 2 \\\\\n",
    "2 & 6 \\\\\n",
    "6 & 4 \n",
    "\\end{bmatrix}\n",
    "$$"
   ]
  },
  {
   "cell_type": "markdown",
   "metadata": {},
   "source": [
    "### 3- Matrizes globais"
   ]
  },
  {
   "cell_type": "code",
   "execution_count": null,
   "metadata": {},
   "outputs": [],
   "source": []
  },
  {
   "cell_type": "markdown",
   "metadata": {},
   "source": [
    "### 4- Resultados"
   ]
  },
  {
   "cell_type": "code",
   "execution_count": null,
   "metadata": {},
   "outputs": [],
   "source": []
  }
 ],
 "metadata": {
  "kernelspec": {
   "display_name": ".venv",
   "language": "python",
   "name": "python3"
  },
  "language_info": {
   "codemirror_mode": {
    "name": "ipython",
    "version": 3
   },
   "file_extension": ".py",
   "mimetype": "text/x-python",
   "name": "python",
   "nbconvert_exporter": "python",
   "pygments_lexer": "ipython3",
   "version": "3.10.12"
  }
 },
 "nbformat": 4,
 "nbformat_minor": 2
}
