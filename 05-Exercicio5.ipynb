{
 "cells": [
  {
   "cell_type": "markdown",
   "metadata": {},
   "source": [
    "# Exercício 5\n",
    "\n",
    "Considerando a barra do exercício anterior com a carga $P$ aplicada na sua extremidade livre, com $EA$ igual a deste exercício, utilizando-se uma divisão com 7 elementos finitos com aproximações lineares, cada um com um comprimento diferente denominados por $h_1$ a $h_7$, sendo $h_1 = \\frac{l}{10}$ e $h_i = h_1 + \\frac{i*l}{70}$ para $i = 2$ a $7$ pede-se montar a matriz de rigidez global para a numeração conforme indicado abaixo.\n",
    "Cada aluno deve adotar uma numeração dos nós dependente do valor de N, associado conforme a tabela fornecida em função do seu número de ordem na lista de chamada. Determine também a matriz de rigidez para uma numeração sequencial dos nós da malha.\n",
    "\n",
    "1 - Apresente as matrizes de cada elemento para o valor de N associado ao seu caso.\n",
    "\n",
    "2 - Apresente a matriz de conectividade adotada para a numeração escolhida\n",
    "\n",
    "3 - Apresente as matrizes globais resultante da composição das matrizes individuais\n",
    "\n",
    "4 - Apresente a solução obtida e compare graficamente com a solução exata do problema\n"
   ]
  },
  {
   "cell_type": "markdown",
   "metadata": {},
   "source": [
    "## Resolução"
   ]
  },
  {
   "cell_type": "markdown",
   "metadata": {},
   "source": [
    "### Equação do Problema\n",
    "\n",
    "Temos que o problema é descrito pela equação:\n",
    "\n",
    "$$\n",
    "EA \\frac{d^2 u(x)}{dx^2} = P \\delta(x - a), 0 \\leq x \\leq L\n",
    "$$\n",
    "\n",
    "onde $a = L$."
   ]
  },
  {
   "cell_type": "markdown",
   "metadata": {},
   "source": [
    "### Numeração dos nós\n",
    "\n",
    "A numeração para $N = 0$ será:\n",
    "\n",
    "$$\n",
    "\\begin{bmatrix}\n",
    "1 & 3 & 5 & 7 & 2 & 6 & 4\n",
    "\\end{bmatrix}\n",
    "$$"
   ]
  },
  {
   "cell_type": "markdown",
   "metadata": {},
   "source": [
    "### Cáculo dos comprimentos dos elementos\n",
    "\n",
    "Consideraremos o  parâmetro $l = 20$ para o cálculo do tamanho dos elementos:"
   ]
  },
  {
   "cell_type": "code",
   "execution_count": 5,
   "metadata": {},
   "outputs": [
    {
     "data": {
      "text/latex": [
       "$\\displaystyle h_{1} = 2.0$"
      ],
      "text/plain": [
       "Eq(h_1, 2.0)"
      ]
     },
     "metadata": {},
     "output_type": "display_data"
    },
    {
     "data": {
      "text/latex": [
       "$\\displaystyle h_{2} = 2.28571428571429$"
      ],
      "text/plain": [
       "Eq(h_2, 2.28571428571429)"
      ]
     },
     "metadata": {},
     "output_type": "display_data"
    },
    {
     "data": {
      "text/latex": [
       "$\\displaystyle h_{3} = 2.57142857142857$"
      ],
      "text/plain": [
       "Eq(h_3, 2.57142857142857)"
      ]
     },
     "metadata": {},
     "output_type": "display_data"
    },
    {
     "data": {
      "text/latex": [
       "$\\displaystyle h_{4} = 2.85714285714286$"
      ],
      "text/plain": [
       "Eq(h_4, 2.85714285714286)"
      ]
     },
     "metadata": {},
     "output_type": "display_data"
    },
    {
     "data": {
      "text/latex": [
       "$\\displaystyle h_{5} = 3.14285714285714$"
      ],
      "text/plain": [
       "Eq(h_5, 3.14285714285714)"
      ]
     },
     "metadata": {},
     "output_type": "display_data"
    },
    {
     "data": {
      "text/latex": [
       "$\\displaystyle h_{6} = 3.42857142857143$"
      ],
      "text/plain": [
       "Eq(h_6, 3.42857142857143)"
      ]
     },
     "metadata": {},
     "output_type": "display_data"
    },
    {
     "data": {
      "text/latex": [
       "$\\displaystyle h_{7} = 3.71428571428571$"
      ],
      "text/plain": [
       "Eq(h_7, 3.71428571428571)"
      ]
     },
     "metadata": {},
     "output_type": "display_data"
    }
   ],
   "source": [
    "import sympy as sp\n",
    "\n",
    "h1, h2, h3, h4, h5, h6, h7 = sp.symbols('h_1 h_2 h_3 h_4 h_5 h_6 h_7')\n",
    "\n",
    "l = 20\n",
    "\n",
    "hi = [h1, h2, h3, h4, h5, h6, h7]\n",
    "h = [l/10]\n",
    "display(sp.Eq(hi[0], h[0]))\n",
    "\n",
    "for i in range(1,7):\n",
    "    h.append(h[0] + (i*l)/70)\n",
    "    display(sp.Eq(hi[i], h[i]))\n",
    "\n"
   ]
  },
  {
   "cell_type": "markdown",
   "metadata": {},
   "source": [
    "### Matrizes de cada elemento"
   ]
  },
  {
   "cell_type": "markdown",
   "metadata": {},
   "source": []
  },
  {
   "cell_type": "code",
   "execution_count": null,
   "metadata": {},
   "outputs": [],
   "source": []
  },
  {
   "cell_type": "markdown",
   "metadata": {},
   "source": [
    "### Matriz de conectividade "
   ]
  },
  {
   "cell_type": "markdown",
   "metadata": {},
   "source": [
    "### Matrizes globais"
   ]
  },
  {
   "cell_type": "markdown",
   "metadata": {},
   "source": [
    "## Resultados"
   ]
  },
  {
   "cell_type": "code",
   "execution_count": null,
   "metadata": {},
   "outputs": [],
   "source": []
  }
 ],
 "metadata": {
  "kernelspec": {
   "display_name": ".venv",
   "language": "python",
   "name": "python3"
  },
  "language_info": {
   "codemirror_mode": {
    "name": "ipython",
    "version": 3
   },
   "file_extension": ".py",
   "mimetype": "text/x-python",
   "name": "python",
   "nbconvert_exporter": "python",
   "pygments_lexer": "ipython3",
   "version": "3.10.12"
  }
 },
 "nbformat": 4,
 "nbformat_minor": 2
}
