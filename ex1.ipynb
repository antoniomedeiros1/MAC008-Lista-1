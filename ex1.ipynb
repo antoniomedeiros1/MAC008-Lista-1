{
 "cells": [
  {
   "cell_type": "markdown",
   "metadata": {},
   "source": [
    "### Exercício 1\n",
    "Utilize o método da projeção para determinar a aproximação da função $f = sen(z \\pi)$ no intervalo $-2 < x < 2$ utilizando as funções $1$, $x^2$, $x^3$, $x^4$, $x^5$. Considere $z = 1 + \\frac{0.5N}{19}$. Apresente os gráficos da aproximação junto com a função dada."
   ]
  },
  {
   "cell_type": "markdown",
   "metadata": {},
   "source": [
    "#### Resolução\n",
    "\n"
   ]
  },
  {
   "cell_type": "code",
   "execution_count": null,
   "metadata": {},
   "outputs": [],
   "source": []
  }
 ],
 "metadata": {
  "language_info": {
   "name": "python"
  }
 },
 "nbformat": 4,
 "nbformat_minor": 2
}
