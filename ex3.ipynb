{
 "cells": [
  {
   "cell_type": "markdown",
   "metadata": {},
   "source": [
    "### Exercício 3\n",
    "\n",
    "Dada a barra a esforço axial com secção constante $(b \\times h)$ engastada e livre com uma carga distribuída dada por $q$ pede-se calcular o deslocamento em sua extremidade livre utilizando o MEF com aproximações linear e quadrática utilizando, respectivamente, 1 elemento e 5 elementos. Apresente a dedução da matriz do elemento quadrático para este caso. Na solução numérica indique claramente a numeração dos nós e dos elementos utilizados em sua discretização e apresentando a numeração dos nós e dos elementos utilizados em sua discretização e apresentado a matriz global e o campo de deslocamento aproximado comparado com a solução exata do problema.\n",
    "Dados:\n",
    "\n",
    "* $b = 0,10m$\n",
    "* $E = 10^8 \\cdot T (Pa)$\n",
    "* $h = 0,5 \\cdot T (m)$\n",
    "* $q(x) = 10 \\cdot T (kN/m)$\n",
    "* $l = 10 \\cdot T (m)$\n",
    "\n",
    "Com $T = \\frac{20 - N}{19}$"
   ]
  },
  {
   "cell_type": "markdown",
   "metadata": {},
   "source": [
    "#### Resolução\n",
    "\n",
    "##### Substituindo $N$\n",
    "\n",
    "Inicialmente, substituiremos os valores de $N$ e $T$:\n",
    "\n",
    "$$\n",
    "N = 0 \\Rightarrow T = \\frac{20}{19}\n",
    "$$\n",
    "\n",
    "Logo, temos que:\n",
    "\n",
    "* $b = 0,10m$\n",
    "* $E = 10^8 \\cdot \\frac{20}{19} (Pa)$\n",
    "* $h = 0,5 \\cdot \\frac{20}{19} (m)$\n",
    "* $q(x) = 10 \\cdot \\frac{20}{19} (kN/m)$\n",
    "* $l = 10 \\cdot \\frac{20}{19} (m)$\n",
    "\n",
    "##### Equação do problema\n",
    "\n",
    "$$\n",
    "-EA \\frac{\\partial ^2 u(x)}{\\partial x^2} = q(x)\n",
    "$$\n",
    "\n",
    "Onde $0 < x < L$, $A = bh$ é a área transversal e $u$ é o vetor deslocamento.\n",
    "\n",
    "##### Condições de Contorno\n",
    "\n",
    "Do enunciado, temos a barra tem "
   ]
  },
  {
   "cell_type": "code",
   "execution_count": null,
   "metadata": {},
   "outputs": [],
   "source": [
    "# \n",
    "\n",
    "import sympy as sp\n",
    "\n",
    "sp.var()"
   ]
  }
 ],
 "metadata": {
  "language_info": {
   "name": "python"
  }
 },
 "nbformat": 4,
 "nbformat_minor": 2
}
