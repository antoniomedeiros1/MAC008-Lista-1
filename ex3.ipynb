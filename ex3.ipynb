{
 "cells": [
  {
   "cell_type": "markdown",
   "metadata": {},
   "source": [
    "### Exercício 3\n",
    "\n",
    "Dada a barra a esforço axial com secção constante $(b \\times h)$ engastada e livre com uma carga distribuída dada por $q$ pede-se calcular o deslocamento em sua extremidade livre utilizando o MEF com aproximações linear e quadrática utilizando, respectivamente, 1 elemento e 5 elementos. Apresente a dedução da matriz do elemento quadrático para este caso. Na solução numérica indique claramente a numeração dos nós e dos elementos utilizados em sua discretização e apresentando a numeração dos nós e dos elementos utilizados em sua discretização e apresentado a matriz global e o campo de deslocamento aproximado comparado com a solução exata do problema.\n",
    "Dados:\n",
    "\n",
    "* $b = 0,10m$\n",
    "* $E = 10^8 \\cdot T (Pa)$\n",
    "* $h = 0,5 \\cdot T (m)$\n",
    "* $q(x) = 10 \\cdot T (kN/m)$\n",
    "* $l = 10 \\cdot T (m)$\n",
    "\n",
    "Com $T = \\frac{20 - N}{19}$"
   ]
  },
  {
   "cell_type": "markdown",
   "metadata": {},
   "source": [
    "#### Resolução"
   ]
  },
  {
   "cell_type": "markdown",
   "metadata": {},
   "source": [
    "##### Substituindo $N$\n",
    "\n",
    "Inicialmente, substituiremos os valores de $N$ e $T$:\n",
    "\n",
    "$$\n",
    "N = 0 \\Rightarrow T = \\frac{20}{19}\n",
    "$$\n",
    "\n",
    "Logo, temos que:\n",
    "\n",
    "* $b = 0,10m$\n",
    "* $E = 10^8 \\cdot \\frac{20}{19} (Pa)$\n",
    "* $h = 0,5 \\cdot \\frac{20}{19} (m)$\n",
    "* $q(x) = 10 \\cdot \\frac{20}{19} (kN/m)$\n",
    "* $l = 10 \\cdot \\frac{20}{19} (m)$"
   ]
  },
  {
   "cell_type": "markdown",
   "metadata": {},
   "source": [
    "##### Equação do problema\n",
    "\n",
    "$$\n",
    "-EA \\frac{\\partial ^2 u(x)}{\\partial x^2} = q(x)\n",
    "$$\n",
    "\n",
    "Onde $0 < x < L$, $A = bh$ é a área transversal e $u$ é o vetor deslocamento."
   ]
  },
  {
   "cell_type": "markdown",
   "metadata": {},
   "source": [
    "##### Condições de Contorno\n",
    "\n",
    "Do enunciado, temos que a barra possui uma extremidade engastada e outra livre, portanto:\n",
    "\n",
    "$$\n",
    "u(0) = 0\n",
    "$$\n",
    "\n"
   ]
  },
  {
   "cell_type": "markdown",
   "metadata": {},
   "source": [
    "#### Aproximação Linear (1 elemento)\n",
    "\n",
    "Fazendo uma aproximação linear, temos:\n",
    "\n",
    "$u = u_1 \\phi _1 + u_2 \\phi _2$\n",
    "\n",
    "Sendo as funções bases de Lagrange:\n",
    "\n",
    "$$\n",
    "\\phi _1 = 1 - \\frac{x}{h}\n",
    "$$\n",
    "\n",
    "$$\n",
    "\\phi _2 = \\frac{x}{h}\n",
    "$$"
   ]
  },
  {
   "cell_type": "markdown",
   "metadata": {},
   "source": [
    "**Calculando Matriz de Rigidez para cada elemento**\n",
    "\n",
    "$$\n",
    "K^i = EA\n",
    "\\begin{bmatrix}\n",
    "\\int_0^h \\phi_1' \\phi_1' dx & \\int_0^h \\phi_1' \\phi_2' dx\\\\\n",
    "\\int_0^h \\phi_2' \\phi_1' dx & \\int_0^h \\phi_2' \\phi_2' dx\n",
    "\\end{bmatrix}\n",
    "$$"
   ]
  },
  {
   "cell_type": "code",
   "execution_count": 95,
   "metadata": {},
   "outputs": [
    {
     "data": {
      "text/latex": [
       "$\\displaystyle \\left[\\begin{matrix}\\frac{A E}{h} & - \\frac{A E}{h}\\\\- \\frac{A E}{h} & \\frac{A E}{h}\\end{matrix}\\right]$"
      ],
      "text/plain": [
       "Matrix([\n",
       "[ A*E/h, -A*E/h],\n",
       "[-A*E/h,  A*E/h]])"
      ]
     },
     "metadata": {},
     "output_type": "display_data"
    }
   ],
   "source": [
    "import sympy as sp\n",
    "\n",
    "E, A, q, x, h = sp.symbols('E A q x h')\n",
    "\n",
    "phi_1 = 1 - x/h\n",
    "phi_2 = x/h\n",
    "\n",
    "integral_1 = sp.integrate(sp.diff(phi_1, x) * sp.diff(phi_1, x), (x, 0, h))\n",
    "integral_2 = sp.integrate(sp.diff(phi_1, x) * sp.diff(phi_2, x), (x, 0, h))\n",
    "integral_3 = sp.integrate(sp.diff(phi_2, x) * sp.diff(phi_1, x), (x, 0, h))\n",
    "integral_4 = sp.integrate(sp.diff(phi_2, x) * sp.diff(phi_2, x), (x, 0, h))\n",
    "\n",
    "K = E * A * sp.Matrix([[integral_1, integral_2], [integral_3, integral_4]])\n",
    "display(K)"
   ]
  },
  {
   "cell_type": "markdown",
   "metadata": {},
   "source": [
    "**Calculando Vetor Fonte por elemento**\n",
    "\n",
    "$$\n",
    "f^i =\n",
    "\\begin{bmatrix}\n",
    "\\int_0^h \\phi_1 q(x) dx \\\\\n",
    "\\int_0^h \\phi_2 q(x) dx\n",
    "\\end{bmatrix}\n",
    "$$"
   ]
  },
  {
   "cell_type": "code",
   "execution_count": 96,
   "metadata": {},
   "outputs": [
    {
     "data": {
      "text/latex": [
       "$\\displaystyle \\left[\\begin{matrix}\\frac{h q}{2}\\\\\\frac{h q}{2}\\end{matrix}\\right]$"
      ],
      "text/plain": [
       "Matrix([\n",
       "[h*q/2],\n",
       "[h*q/2]])"
      ]
     },
     "metadata": {},
     "output_type": "display_data"
    }
   ],
   "source": [
    "f = sp.symbols('f')\n",
    "\n",
    "f = sp.Matrix([[sp.integrate(phi_1 * q, (x, 0, h))], [sp.integrate(phi_2 * q, (x, 0, h))]])\n",
    "\n",
    "display(f)"
   ]
  },
  {
   "cell_type": "markdown",
   "metadata": {},
   "source": [
    "**Substituição dos valores**\n",
    "\n",
    "Para o caso linear, como temos apenas 1 elemento, a Matriz Global de Rigidez e o Vetor Fonte Global serão os mesmos já calculados:"
   ]
  },
  {
   "cell_type": "code",
   "execution_count": 97,
   "metadata": {},
   "outputs": [
    {
     "data": {
      "text/latex": [
       "$\\displaystyle \\left[\\begin{matrix}526315.789473684 & -526315.789473684\\\\-526315.789473684 & 526315.789473684\\end{matrix}\\right]$"
      ],
      "text/plain": [
       "Matrix([\n",
       "[ 526315.789473684, -526315.789473684],\n",
       "[-526315.789473684,  526315.789473684]])"
      ]
     },
     "metadata": {},
     "output_type": "display_data"
    }
   ],
   "source": [
    "T = 20/19\n",
    "L = 10 * T\n",
    "n_elementos = 1\n",
    "\n",
    "K_lin = K.subs({\n",
    "    A: 0.1 * 0.5 * T,\n",
    "    E: (10**8) * T,\n",
    "    h: L/n_elementos\n",
    "})\n",
    "\n",
    "display(K_lin)"
   ]
  },
  {
   "cell_type": "code",
   "execution_count": 98,
   "metadata": {},
   "outputs": [
    {
     "data": {
      "text/latex": [
       "$\\displaystyle \\left[\\begin{matrix}55.4016620498615\\\\55.4016620498615\\end{matrix}\\right]$"
      ],
      "text/plain": [
       "Matrix([\n",
       "[55.4016620498615],\n",
       "[55.4016620498615]])"
      ]
     },
     "metadata": {},
     "output_type": "display_data"
    }
   ],
   "source": [
    "f_lin = f.subs({\n",
    "    h: L/n_elementos,\n",
    "    q: 10 * T\n",
    "})\n",
    "display(f_lin)"
   ]
  },
  {
   "cell_type": "markdown",
   "metadata": {},
   "source": [
    "**Aplicando Condições de Contorno de Dirichlet ($u(0) = 0$)**\n",
    "\n",
    "Conhecendo o valor em $u(0)$, podemos utilizar o método de eliminação:"
   ]
  },
  {
   "cell_type": "code",
   "execution_count": 99,
   "metadata": {},
   "outputs": [],
   "source": [
    "K_lin[0, 0] = 1.0\n",
    "K_lin[0, 1] = 0.0\n",
    "K_lin[1, 0] = 0.0\n",
    "f_lin[0]    = 0.0"
   ]
  },
  {
   "cell_type": "markdown",
   "metadata": {},
   "source": [
    "**Calculando Vetor de Deslocamentos $u$**"
   ]
  },
  {
   "cell_type": "code",
   "execution_count": 101,
   "metadata": {},
   "outputs": [
    {
     "data": {
      "text/latex": [
       "$\\displaystyle \\left[\\begin{matrix}0\\\\0.000105263157894737\\end{matrix}\\right]$"
      ],
      "text/plain": [
       "Matrix([\n",
       "[                   0],\n",
       "[0.000105263157894737]])"
      ]
     },
     "metadata": {},
     "output_type": "display_data"
    }
   ],
   "source": [
    "u_lin = K_lin.inv() * f_lin\n",
    "display(u_lin)"
   ]
  },
  {
   "cell_type": "markdown",
   "metadata": {},
   "source": [
    "#### Aproximação Quadrática (5 elementos)\n",
    "\n",
    "Fazendo uma aproximação quadrática, temos que:\n",
    "\n",
    "$$\n",
    "u = u_1 \\phi _1 + u_2 \\phi _2 + u_3 \\phi _3\n",
    "$$\n",
    "\n",
    "Sendo as funções bases de Lagrange para este caso:\n",
    "\n",
    "$$\n",
    "\\phi _1 = 1 - \\frac{3x}{h} + \\frac{2x^2}{h^2}\n",
    "$$\n",
    "\n",
    "$$\n",
    "\\phi _2 = \\frac{4x}{h} - \\frac{4x^2}{h^2}\n",
    "$$\n",
    "\n",
    "$$\n",
    "\\phi _3 = -\\frac{x}{h} + \\frac{2x^2}{h^2}\n",
    "$$"
   ]
  },
  {
   "cell_type": "markdown",
   "metadata": {},
   "source": [
    "**Calculando Matriz de Rigidez para cada elemento**\n",
    "\n",
    "$$\n",
    "K^i = EA\n",
    "\\begin{bmatrix}\n",
    "\\int_0^h \\phi_1' \\phi_1' dx & \\int_0^h \\phi_1' \\phi_2' dx & \\int_0^h \\phi_1' \\phi_3' dx \\\\\n",
    "\\int_0^h \\phi_2' \\phi_1' dx & \\int_0^h \\phi_2' \\phi_2' dx & \\int_0^h \\phi_2' \\phi_3' dx \\\\\n",
    "\\int_0^h \\phi_2' \\phi_1' dx & \\int_0^h \\phi_3' \\phi_2' dx & \\int_0^h \\phi_3' \\phi_3' dx \n",
    "\\end{bmatrix}\n",
    "$$"
   ]
  },
  {
   "cell_type": "code",
   "execution_count": 153,
   "metadata": {},
   "outputs": [
    {
     "data": {
      "text/latex": [
       "$\\displaystyle \\left[\\begin{matrix}\\frac{7 A E}{3 h} & - \\frac{8 A E}{3 h} & \\frac{A E}{3 h}\\\\- \\frac{8 A E}{3 h} & \\frac{16 A E}{3 h} & - \\frac{8 A E}{3 h}\\\\\\frac{A E}{3 h} & - \\frac{8 A E}{3 h} & \\frac{7 A E}{3 h}\\end{matrix}\\right]$"
      ],
      "text/plain": [
       "Matrix([\n",
       "[ 7*A*E/(3*h), -8*A*E/(3*h),    A*E/(3*h)],\n",
       "[-8*A*E/(3*h), 16*A*E/(3*h), -8*A*E/(3*h)],\n",
       "[   A*E/(3*h), -8*A*E/(3*h),  7*A*E/(3*h)]])"
      ]
     },
     "metadata": {},
     "output_type": "display_data"
    }
   ],
   "source": [
    "E, A, q, x, h = sp.symbols('E A q x h')\n",
    "\n",
    "phi_1 = 1 - 3*x/h + 2*(x**2)/(h**2)\n",
    "phi_2 = 4*x/h - 4*(x**2)/(h**2)\n",
    "phi_3 = -x/h + 2 * (x**2)/(h**2)\n",
    "\n",
    "integral_1 = sp.integrate(sp.diff(phi_1, x) * sp.diff(phi_1, x), (x, 0, h))\n",
    "integral_2 = sp.integrate(sp.diff(phi_1, x) * sp.diff(phi_2, x), (x, 0, h))\n",
    "integral_3 = sp.integrate(sp.diff(phi_1, x) * sp.diff(phi_3, x), (x, 0, h))\n",
    "\n",
    "integral_4 = sp.integrate(sp.diff(phi_2, x) * sp.diff(phi_1, x), (x, 0, h))\n",
    "integral_5 = sp.integrate(sp.diff(phi_2, x) * sp.diff(phi_2, x), (x, 0, h))\n",
    "integral_6 = sp.integrate(sp.diff(phi_2, x) * sp.diff(phi_3, x), (x, 0, h))\n",
    "\n",
    "integral_7 = sp.integrate(sp.diff(phi_3, x) * sp.diff(phi_1, x), (x, 0, h))\n",
    "integral_8 = sp.integrate(sp.diff(phi_3, x) * sp.diff(phi_2, x), (x, 0, h))\n",
    "integral_9 = sp.integrate(sp.diff(phi_3, x) * sp.diff(phi_3, x), (x, 0, h))\n",
    "\n",
    "K_ = E * A * sp.Matrix([\n",
    "    [integral_1, integral_2, integral_3], \n",
    "    [integral_4, integral_5, integral_6],\n",
    "    [integral_7, integral_8, integral_9]\n",
    "])\n",
    "display(K_)"
   ]
  },
  {
   "cell_type": "markdown",
   "metadata": {},
   "source": [
    "**Calculando Matriz de Rigidez Global**\n",
    "\n",
    "Para aproximações quadráticas e considerando que serão utilizados 5 elementos, temos que a matriz de rigidez global $K$ será dada por:\n",
    "\n",
    "$$\n",
    "K =\n",
    "\\begin{bmatrix}\n",
    "K^1_{11}        & K^1_{12}          & K^1_{13}          & 0             & 0                 & \\cdots & 0                    & 0         & 0\\\\\n",
    "K^1_{21}        & K^1_{22}          & K^1_{23}          & 0             & 0                 & \\cdots & 0                    & 0         & 0\\\\\n",
    "K^1_{31}        & K^1_{32}          & K^1_{33}+K^2_{11} & K^2_{12}      & K^2_{13}          & \\cdots & 0                    & 0         & 0\\\\\n",
    "0               & 0                 & K^2_{21}          & K^2_{22}      & K^2_{23}          & \\cdots & 0                    & 0         & 0\\\\\n",
    "0               & 0                 & K^2_{31}          & K^2_{32}      & K^2_{33}+K^3_{11} & \\cdots & 0                    & 0         & 0\\\\\n",
    "\\vdots          & \\vdots            & \\vdots            & \\vdots        & \\vdots            & \\ddots & \\vdots               & \\vdots    & \\vdots\\\\\n",
    "0               & 0                 & 0                 & 0             & 0                 & \\cdots & K^4_{33}+K^5_{11}    & K^5_{12}  & K^5_{13} \\\\\n",
    "0               & 0                 & 0                 & 0             & 0                 & \\cdots & K^5_{21}             & K^5_{22}  & K^5_{23} \\\\\n",
    "0               & 0                 & 0                 & 0             & 0                 & \\cdots & K^5_{31}             & K^5_{32}  & K^5_{33} \n",
    "\\end{bmatrix}\n",
    "$$"
   ]
  },
  {
   "cell_type": "code",
   "execution_count": 140,
   "metadata": {},
   "outputs": [
    {
     "data": {
      "text/latex": [
       "$\\displaystyle \\left[\\begin{array}{ccccccccccc}\\frac{35 A E}{3 L_{}} & - \\frac{40 A E}{3 L_{}} & \\frac{5 A E}{3 L_{}} & 0 & 0 & 0 & 0 & 0 & 0 & 0 & 0\\\\- \\frac{40 A E}{3 L_{}} & \\frac{80 A E}{3 L_{}} & - \\frac{40 A E}{3 L_{}} & 0 & 0 & 0 & 0 & 0 & 0 & 0 & 0\\\\\\frac{5 A E}{3 L_{}} & - \\frac{40 A E}{3 L_{}} & \\frac{70 A E}{3 L_{}} & - \\frac{40 A E}{3 L_{}} & \\frac{5 A E}{3 L_{}} & 0 & 0 & 0 & 0 & 0 & 0\\\\0 & 0 & - \\frac{40 A E}{3 L_{}} & \\frac{80 A E}{3 L_{}} & - \\frac{40 A E}{3 L_{}} & 0 & 0 & 0 & 0 & 0 & 0\\\\0 & 0 & \\frac{5 A E}{3 L_{}} & - \\frac{40 A E}{3 L_{}} & \\frac{70 A E}{3 L_{}} & - \\frac{40 A E}{3 L_{}} & \\frac{5 A E}{3 L_{}} & 0 & 0 & 0 & 0\\\\0 & 0 & 0 & 0 & - \\frac{40 A E}{3 L_{}} & \\frac{80 A E}{3 L_{}} & - \\frac{40 A E}{3 L_{}} & 0 & 0 & 0 & 0\\\\0 & 0 & 0 & 0 & \\frac{5 A E}{3 L_{}} & - \\frac{40 A E}{3 L_{}} & \\frac{70 A E}{3 L_{}} & - \\frac{40 A E}{3 L_{}} & \\frac{5 A E}{3 L_{}} & 0 & 0\\\\0 & 0 & 0 & 0 & 0 & 0 & - \\frac{40 A E}{3 L_{}} & \\frac{80 A E}{3 L_{}} & - \\frac{40 A E}{3 L_{}} & 0 & 0\\\\0 & 0 & 0 & 0 & 0 & 0 & \\frac{5 A E}{3 L_{}} & - \\frac{40 A E}{3 L_{}} & \\frac{70 A E}{3 L_{}} & - \\frac{40 A E}{3 L_{}} & \\frac{5 A E}{3 L_{}}\\\\0 & 0 & 0 & 0 & 0 & 0 & 0 & 0 & - \\frac{40 A E}{3 L_{}} & \\frac{80 A E}{3 L_{}} & - \\frac{40 A E}{3 L_{}}\\\\0 & 0 & 0 & 0 & 0 & 0 & 0 & 0 & \\frac{5 A E}{3 L_{}} & - \\frac{40 A E}{3 L_{}} & \\frac{35 A E}{3 L_{}}\\end{array}\\right]$"
      ],
      "text/plain": [
       "Matrix([\n",
       "[ 35*A*E/(3*L_), -40*A*E/(3*L_),   5*A*E/(3*L_),              0,              0,              0,              0,              0,              0,              0,              0],\n",
       "[-40*A*E/(3*L_),  80*A*E/(3*L_), -40*A*E/(3*L_),              0,              0,              0,              0,              0,              0,              0,              0],\n",
       "[  5*A*E/(3*L_), -40*A*E/(3*L_),  70*A*E/(3*L_), -40*A*E/(3*L_),   5*A*E/(3*L_),              0,              0,              0,              0,              0,              0],\n",
       "[             0,              0, -40*A*E/(3*L_),  80*A*E/(3*L_), -40*A*E/(3*L_),              0,              0,              0,              0,              0,              0],\n",
       "[             0,              0,   5*A*E/(3*L_), -40*A*E/(3*L_),  70*A*E/(3*L_), -40*A*E/(3*L_),   5*A*E/(3*L_),              0,              0,              0,              0],\n",
       "[             0,              0,              0,              0, -40*A*E/(3*L_),  80*A*E/(3*L_), -40*A*E/(3*L_),              0,              0,              0,              0],\n",
       "[             0,              0,              0,              0,   5*A*E/(3*L_), -40*A*E/(3*L_),  70*A*E/(3*L_), -40*A*E/(3*L_),   5*A*E/(3*L_),              0,              0],\n",
       "[             0,              0,              0,              0,              0,              0, -40*A*E/(3*L_),  80*A*E/(3*L_), -40*A*E/(3*L_),              0,              0],\n",
       "[             0,              0,              0,              0,              0,              0,   5*A*E/(3*L_), -40*A*E/(3*L_),  70*A*E/(3*L_), -40*A*E/(3*L_),   5*A*E/(3*L_)],\n",
       "[             0,              0,              0,              0,              0,              0,              0,              0, -40*A*E/(3*L_),  80*A*E/(3*L_), -40*A*E/(3*L_)],\n",
       "[             0,              0,              0,              0,              0,              0,              0,              0,   5*A*E/(3*L_), -40*A*E/(3*L_),  35*A*E/(3*L_)]])"
      ]
     },
     "metadata": {},
     "output_type": "display_data"
    }
   ],
   "source": [
    "n_elements = 5\n",
    "\n",
    "K_G = sp.zeros(n_elements*2 + 1)\n",
    "\n",
    "for i in range(n_elements):\n",
    "    first = i * 2\n",
    "    last  = i * 2 + 3 \n",
    "    K_G[first:last, first:last] += K_\n",
    "\n",
    "display(K_G.subs({h: L_/5}))"
   ]
  },
  {
   "cell_type": "markdown",
   "metadata": {},
   "source": [
    "**Calculando Vetor Fonte para cada elemento**\n",
    "\n",
    "Temos que:\n",
    "\n",
    "$$\n",
    "f^i =\n",
    "\\begin{bmatrix}\n",
    "\\int_0^h \\phi_1 q(x) dx \\\\\n",
    "\\int_0^h \\phi_2 q(x) dx \\\\\n",
    "\\int_0^h \\phi_3 q(x) dx\n",
    "\\end{bmatrix}\n",
    "$$"
   ]
  },
  {
   "cell_type": "code",
   "execution_count": 141,
   "metadata": {},
   "outputs": [
    {
     "data": {
      "text/latex": [
       "$\\displaystyle \\left[\\begin{matrix}\\frac{h q}{6}\\\\\\frac{2 h q}{3}\\\\\\frac{h q}{6}\\end{matrix}\\right]$"
      ],
      "text/plain": [
       "Matrix([\n",
       "[  h*q/6],\n",
       "[2*h*q/3],\n",
       "[  h*q/6]])"
      ]
     },
     "metadata": {},
     "output_type": "display_data"
    }
   ],
   "source": [
    "f_ = sp.symbols('f')\n",
    "\n",
    "f_ = sp.Matrix([[sp.integrate(phi_1 * q, (x, 0, h))], [sp.integrate(phi_2 * q, (x, 0, h))], [sp.integrate(phi_3 * q, (x, 0, h))]])\n",
    "\n",
    "display(f_)"
   ]
  },
  {
   "cell_type": "code",
   "execution_count": 142,
   "metadata": {},
   "outputs": [
    {
     "data": {
      "text/latex": [
       "$\\displaystyle \\left[\\begin{matrix}\\frac{h q}{6}\\\\\\frac{2 h q}{3}\\\\\\frac{h q}{3}\\\\\\frac{2 h q}{3}\\\\\\frac{h q}{3}\\\\\\frac{2 h q}{3}\\\\\\frac{h q}{3}\\\\\\frac{2 h q}{3}\\\\\\frac{h q}{3}\\\\\\frac{2 h q}{3}\\\\\\frac{h q}{6}\\end{matrix}\\right]$"
      ],
      "text/plain": [
       "Matrix([\n",
       "[  h*q/6],\n",
       "[2*h*q/3],\n",
       "[  h*q/3],\n",
       "[2*h*q/3],\n",
       "[  h*q/3],\n",
       "[2*h*q/3],\n",
       "[  h*q/3],\n",
       "[2*h*q/3],\n",
       "[  h*q/3],\n",
       "[2*h*q/3],\n",
       "[  h*q/6]])"
      ]
     },
     "metadata": {},
     "output_type": "display_data"
    }
   ],
   "source": [
    "F = sp.zeros(n_elements * 2 + 1, 1)\n",
    "\n",
    "for i in range(n_elements):\n",
    "    first = i * 2\n",
    "    last  = i * 2 + 3 \n",
    "    F[first:last, 0] += f_\n",
    "\n",
    "display(F)"
   ]
  },
  {
   "cell_type": "markdown",
   "metadata": {},
   "source": [
    "**Aplicando Condições de Contorno**"
   ]
  },
  {
   "cell_type": "code",
   "execution_count": 143,
   "metadata": {},
   "outputs": [],
   "source": [
    "for i in range(n_elements * 2 + 1):\n",
    "    K_G[0, i] = 0.0\n",
    "    K_G[i, 0] = 0.0\n",
    "K_G[0, 0] = 1.0\n",
    "F[0]      = 0.0"
   ]
  },
  {
   "cell_type": "markdown",
   "metadata": {},
   "source": [
    "**Substituindo os valores**"
   ]
  },
  {
   "cell_type": "code",
   "execution_count": 144,
   "metadata": {},
   "outputs": [
    {
     "data": {
      "text/latex": [
       "$\\displaystyle \\left[\\begin{array}{ccccccccccc}1.0 & 0 & 0 & 0 & 0 & 0 & 0 & 0 & 0 & 0 & 0\\\\0 & \\frac{16 A E}{3 h} & - \\frac{8 A E}{3 h} & 0 & 0 & 0 & 0 & 0 & 0 & 0 & 0\\\\0 & - \\frac{8 A E}{3 h} & \\frac{14 A E}{3 h} & - \\frac{8 A E}{3 h} & \\frac{A E}{3 h} & 0 & 0 & 0 & 0 & 0 & 0\\\\0 & 0 & - \\frac{8 A E}{3 h} & \\frac{16 A E}{3 h} & - \\frac{8 A E}{3 h} & 0 & 0 & 0 & 0 & 0 & 0\\\\0 & 0 & \\frac{A E}{3 h} & - \\frac{8 A E}{3 h} & \\frac{14 A E}{3 h} & - \\frac{8 A E}{3 h} & \\frac{A E}{3 h} & 0 & 0 & 0 & 0\\\\0 & 0 & 0 & 0 & - \\frac{8 A E}{3 h} & \\frac{16 A E}{3 h} & - \\frac{8 A E}{3 h} & 0 & 0 & 0 & 0\\\\0 & 0 & 0 & 0 & \\frac{A E}{3 h} & - \\frac{8 A E}{3 h} & \\frac{14 A E}{3 h} & - \\frac{8 A E}{3 h} & \\frac{A E}{3 h} & 0 & 0\\\\0 & 0 & 0 & 0 & 0 & 0 & - \\frac{8 A E}{3 h} & \\frac{16 A E}{3 h} & - \\frac{8 A E}{3 h} & 0 & 0\\\\0 & 0 & 0 & 0 & 0 & 0 & \\frac{A E}{3 h} & - \\frac{8 A E}{3 h} & \\frac{14 A E}{3 h} & - \\frac{8 A E}{3 h} & \\frac{A E}{3 h}\\\\0 & 0 & 0 & 0 & 0 & 0 & 0 & 0 & - \\frac{8 A E}{3 h} & \\frac{16 A E}{3 h} & - \\frac{8 A E}{3 h}\\\\0 & 0 & 0 & 0 & 0 & 0 & 0 & 0 & \\frac{A E}{3 h} & - \\frac{8 A E}{3 h} & \\frac{7 A E}{3 h}\\end{array}\\right]$"
      ],
      "text/plain": [
       "Matrix([\n",
       "[1.0,            0,            0,            0,            0,            0,            0,            0,            0,            0,            0],\n",
       "[  0, 16*A*E/(3*h), -8*A*E/(3*h),            0,            0,            0,            0,            0,            0,            0,            0],\n",
       "[  0, -8*A*E/(3*h), 14*A*E/(3*h), -8*A*E/(3*h),    A*E/(3*h),            0,            0,            0,            0,            0,            0],\n",
       "[  0,            0, -8*A*E/(3*h), 16*A*E/(3*h), -8*A*E/(3*h),            0,            0,            0,            0,            0,            0],\n",
       "[  0,            0,    A*E/(3*h), -8*A*E/(3*h), 14*A*E/(3*h), -8*A*E/(3*h),    A*E/(3*h),            0,            0,            0,            0],\n",
       "[  0,            0,            0,            0, -8*A*E/(3*h), 16*A*E/(3*h), -8*A*E/(3*h),            0,            0,            0,            0],\n",
       "[  0,            0,            0,            0,    A*E/(3*h), -8*A*E/(3*h), 14*A*E/(3*h), -8*A*E/(3*h),    A*E/(3*h),            0,            0],\n",
       "[  0,            0,            0,            0,            0,            0, -8*A*E/(3*h), 16*A*E/(3*h), -8*A*E/(3*h),            0,            0],\n",
       "[  0,            0,            0,            0,            0,            0,    A*E/(3*h), -8*A*E/(3*h), 14*A*E/(3*h), -8*A*E/(3*h),    A*E/(3*h)],\n",
       "[  0,            0,            0,            0,            0,            0,            0,            0, -8*A*E/(3*h), 16*A*E/(3*h), -8*A*E/(3*h)],\n",
       "[  0,            0,            0,            0,            0,            0,            0,            0,    A*E/(3*h), -8*A*E/(3*h),  7*A*E/(3*h)]])"
      ]
     },
     "metadata": {},
     "output_type": "display_data"
    },
    {
     "data": {
      "text/latex": [
       "$\\displaystyle \\left[\\begin{matrix}0\\\\14.7737765466297\\\\7.38688827331486\\\\14.7737765466297\\\\7.38688827331486\\\\14.7737765466297\\\\7.38688827331486\\\\14.7737765466297\\\\7.38688827331486\\\\14.7737765466297\\\\3.69344413665743\\end{matrix}\\right]$"
      ],
      "text/plain": [
       "Matrix([\n",
       "[               0],\n",
       "[14.7737765466297],\n",
       "[7.38688827331486],\n",
       "[14.7737765466297],\n",
       "[7.38688827331486],\n",
       "[14.7737765466297],\n",
       "[7.38688827331486],\n",
       "[14.7737765466297],\n",
       "[7.38688827331486],\n",
       "[14.7737765466297],\n",
       "[3.69344413665743]])"
      ]
     },
     "metadata": {},
     "output_type": "display_data"
    }
   ],
   "source": [
    "K_qua = K_G.subs({\n",
    "    A: 0.1 * 0.5 * T,\n",
    "    E: (10**8) * T,\n",
    "    h: L/n_elements\n",
    "})\n",
    "\n",
    "display(K_G)\n",
    "\n",
    "f_qua = F.subs({\n",
    "    h: L/n_elements,\n",
    "    q: 10 * T\n",
    "})\n",
    "display(f_qua)"
   ]
  },
  {
   "cell_type": "markdown",
   "metadata": {},
   "source": [
    "**Calculando Matriz de Deslocamentos**"
   ]
  },
  {
   "cell_type": "code",
   "execution_count": 145,
   "metadata": {},
   "outputs": [
    {
     "data": {
      "text/latex": [
       "$\\displaystyle \\left[\\begin{matrix}0\\\\1.99999999999998 \\cdot 10^{-5}\\\\3.7894736842105 \\cdot 10^{-5}\\\\5.36842105263153 \\cdot 10^{-5}\\\\6.7368421052631 \\cdot 10^{-5}\\\\7.89473684210519 \\cdot 10^{-5}\\\\8.84210526315781 \\cdot 10^{-5}\\\\9.57894736842097 \\cdot 10^{-5}\\\\0.000101052631578946\\\\0.000104210526315789\\\\0.000105263157894736\\end{matrix}\\right]$"
      ],
      "text/plain": [
       "Matrix([\n",
       "[                   0],\n",
       "[ 1.99999999999998e-5],\n",
       "[  3.7894736842105e-5],\n",
       "[ 5.36842105263153e-5],\n",
       "[  6.7368421052631e-5],\n",
       "[ 7.89473684210519e-5],\n",
       "[ 8.84210526315781e-5],\n",
       "[ 9.57894736842097e-5],\n",
       "[0.000101052631578946],\n",
       "[0.000104210526315789],\n",
       "[0.000105263157894736]])"
      ]
     },
     "metadata": {},
     "output_type": "display_data"
    }
   ],
   "source": [
    "u_qua = K_qua.inv() * f_qua\n",
    "display(u_qua)"
   ]
  },
  {
   "cell_type": "markdown",
   "metadata": {},
   "source": [
    "#### Resultados"
   ]
  },
  {
   "cell_type": "code",
   "execution_count": 146,
   "metadata": {},
   "outputs": [],
   "source": [
    "import numpy as np\n",
    "from matplotlib import pyplot as plt"
   ]
  },
  {
   "cell_type": "code",
   "execution_count": 152,
   "metadata": {},
   "outputs": [
    {
     "data": {
      "image/png": "[encoded data removed]",
      "text/plain": [
       "<Figure size 640x480 with 1 Axes>"
      ]
     },
     "metadata": {},
     "output_type": "display_data"
    }
   ],
   "source": [
    "# funcoes\n",
    "\n",
    "def sol_analitica(x, E, A, q, c1, c2):\n",
    "    return -(1/(E*A)) * ((q * x**2/2) + c1 * x + c2)\n",
    "\n",
    "L = 10 * T\n",
    "E = (10 ** 8) * T\n",
    "A = 0.1 * 0.5 * T\n",
    "q = 10 * T\n",
    "\n",
    "c1 = -1 * q * L\n",
    "c2 = 0\n",
    "\n",
    "# dominio\n",
    "x_analitica = np.linspace(0, L)\n",
    "y_analitica = sol_analitica(x_analitica, E, A, q, c1, c2)\n",
    "\n",
    "\n",
    "# resultados\n",
    "plt.plot(x_analitica, y_analitica, label='Sol. Analítica')\n",
    "plt.plot([i*L for i in range(2)], u_lin, '-s', label='Sol. Linear')\n",
    "plt.plot([i*L/10 for i in range(11)], u_qua, '-s', label='Sol. Quadrática')\n",
    "\n",
    "plt.xlabel('x (m)')\n",
    "plt.ylabel('Deslocamento (m)')\n",
    "plt.legend()\n",
    "plt.show()"
   ]
  },
  {
   "cell_type": "code",
   "execution_count": null,
   "metadata": {},
   "outputs": [],
   "source": []
  }
 ],
 "metadata": {
  "kernelspec": {
   "display_name": "Python 3 (ipykernel)",
   "language": "python",
   "name": "python3"
  },
  "language_info": {
   "codemirror_mode": {
    "name": "ipython",
    "version": 3
   },
   "file_extension": ".py",
   "mimetype": "text/x-python",
   "name": "python",
   "nbconvert_exporter": "python",
   "pygments_lexer": "ipython3",
   "version": "3.10.12"
  }
 },
 "nbformat": 4,
 "nbformat_minor": 2
}
