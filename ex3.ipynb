{
 "cells": [
  {
   "cell_type": "markdown",
   "metadata": {},
   "source": [
    "### Exercício 3\n",
    "\n",
    "Dada a barra a esforço axial com secção constante $(b \\times h)$ engastada e livre com uma carga distribuída dada por $q$ pede-se calcular o deslocamento em sua extremidade livre utilizando o MEF com aproximações linear e quadrática utilizando, respectivamente, 1 elemento e 5 elementos. Apresente a dedução da matriz do elemento quadrático para este caso. Na solução numérica indique claramente a numeração dos nós e dos elementos utilizados em sua discretização e apresentando a numeração dos nós e dos elementos utilizados em sua discretização e apresentado a matriz global e o campo de deslocamento aproximado comparado com a solução exata do problema.\n",
    "Dados:\n",
    "\n",
    "* $b = 0,10m$\n",
    "* $E = 10^8 \\cdot T (Pa)$\n",
    "* $h = 0,5 \\cdot T (m)$\n",
    "* $q(x) = 10 \\cdot T (kN/m)$\n",
    "* $l = 10 \\cdot T (m)$\n",
    "\n",
    "Com $T = \\frac{20 - N}{19}$"
   ]
  },
  {
   "cell_type": "markdown",
   "metadata": {},
   "source": [
    "#### Resolução"
   ]
  },
  {
   "cell_type": "markdown",
   "metadata": {},
   "source": [
    "##### Substituindo $N$\n",
    "\n",
    "Inicialmente, substituiremos os valores de $N$ e $T$:\n",
    "\n",
    "$$\n",
    "N = 0 \\Rightarrow T = \\frac{20}{19}\n",
    "$$\n",
    "\n",
    "Logo, temos que:\n",
    "\n",
    "* $b = 0,10m$\n",
    "* $E = 10^8 \\cdot \\frac{20}{19} (Pa)$\n",
    "* $h = 0,5 \\cdot \\frac{20}{19} (m)$\n",
    "* $q(x) = 10 \\cdot \\frac{20}{19} (kN/m)$\n",
    "* $l = 10 \\cdot \\frac{20}{19} (m)$"
   ]
  },
  {
   "cell_type": "markdown",
   "metadata": {},
   "source": [
    "##### Equação do problema\n",
    "\n",
    "$$\n",
    "-EA \\frac{\\partial ^2 u(x)}{\\partial x^2} = q(x)\n",
    "$$\n",
    "\n",
    "Onde $0 < x < L$, $A = bh$ é a área transversal e $u$ é o vetor deslocamento."
   ]
  },
  {
   "cell_type": "markdown",
   "metadata": {},
   "source": [
    "##### Condições de Contorno\n",
    "\n",
    "Do enunciado, temos que a barra possui uma extremidade engastada e outra livre, portanto:\n",
    "\n",
    "$$\n",
    "u(0) = 0\n",
    "$$\n",
    "\n"
   ]
  },
  {
   "cell_type": "markdown",
   "metadata": {},
   "source": [
    "#### Aproximação Linear (1 elemento)\n",
    "\n",
    "Fazendo uma aproximação linear, temos:\n",
    "\n",
    "$u = u_1 \\phi _1 + u_2 \\phi _2$\n",
    "\n",
    "Sendo as funções bases de Lagrange:\n",
    "\n",
    "$$\n",
    "\\phi _1 = 1 - \\frac{x}{h}\n",
    "$$\n",
    "\n",
    "$$\n",
    "\\phi _2 = \\frac{x}{h}\n",
    "$$"
   ]
  },
  {
   "cell_type": "markdown",
   "metadata": {},
   "source": [
    "**Calculando Matriz de Rigidez para cada elemento**\n",
    "\n",
    "$$\n",
    "K^i = EA\n",
    "\\begin{bmatrix}\n",
    "\\int_0^h \\phi_1' \\phi_1' dx & \\int_0^h \\phi_1' \\phi_2' dx\\\\\n",
    "\\int_0^h \\phi_2' \\phi_1' dx & \\int_0^h \\phi_2' \\phi_2' dx\n",
    "\\end{bmatrix}\n",
    "$$"
   ]
  },
  {
   "cell_type": "code",
   "execution_count": 77,
   "metadata": {},
   "outputs": [
    {
     "data": {
      "text/latex": [
       "$\\displaystyle \\left[\\begin{matrix}\\frac{A E}{h} & - \\frac{A E}{h}\\\\- \\frac{A E}{h} & \\frac{A E}{h}\\end{matrix}\\right]$"
      ],
      "text/plain": [
       "Matrix([\n",
       "[ A*E/h, -A*E/h],\n",
       "[-A*E/h,  A*E/h]])"
      ]
     },
     "metadata": {},
     "output_type": "display_data"
    }
   ],
   "source": [
    "import sympy as sp\n",
    "\n",
    "E, A, q, x, h = sp.symbols('E A q x h')\n",
    "\n",
    "phi_1 = 1 - x/h\n",
    "phi_2 = x/h\n",
    "\n",
    "integral_1 = sp.integrate(sp.diff(phi_1, x) * sp.diff(phi_1, x), (x, 0, h))\n",
    "integral_2 = sp.integrate(sp.diff(phi_1, x) * sp.diff(phi_2, x), (x, 0, h))\n",
    "integral_3 = sp.integrate(sp.diff(phi_2, x) * sp.diff(phi_1, x), (x, 0, h))\n",
    "integral_4 = sp.integrate(sp.diff(phi_2, x) * sp.diff(phi_2, x), (x, 0, h))\n",
    "\n",
    "K = E * A * sp.Matrix([[integral_1, integral_2], [integral_3, integral_4]])\n",
    "display(K)"
   ]
  },
  {
   "cell_type": "markdown",
   "metadata": {},
   "source": [
    "**Calculando Vetor Fonte por elemento**\n",
    "\n",
    "$$\n",
    "f^i = EA\n",
    "\\begin{bmatrix}\n",
    "\\int_0^h \\phi_1 q(x) dx \\\\\n",
    "\\int_0^h \\phi_2 q(x) dx\n",
    "\\end{bmatrix}\n",
    "$$"
   ]
  },
  {
   "cell_type": "code",
   "execution_count": 78,
   "metadata": {},
   "outputs": [
    {
     "data": {
      "text/latex": [
       "$\\displaystyle \\left[\\begin{matrix}\\frac{h q}{2}\\\\\\frac{h q}{2}\\end{matrix}\\right]$"
      ],
      "text/plain": [
       "Matrix([\n",
       "[h*q/2],\n",
       "[h*q/2]])"
      ]
     },
     "metadata": {},
     "output_type": "display_data"
    }
   ],
   "source": [
    "f = sp.symbols('f')\n",
    "\n",
    "f = sp.Matrix([[sp.integrate(phi_1 * q, (x, 0, h))], [sp.integrate(phi_2 * q, (x, 0, h))]])\n",
    "\n",
    "display(f)"
   ]
  },
  {
   "cell_type": "markdown",
   "metadata": {},
   "source": [
    "**Substituição dos valores**\n",
    "Para o caso linear, como temos apenas 1 elemento, a Matriz Global de Rigidez e o Vetor Fonte Global serão os mesmos já calculados:"
   ]
  },
  {
   "cell_type": "code",
   "execution_count": 79,
   "metadata": {},
   "outputs": [
    {
     "data": {
      "text/latex": [
       "$\\displaystyle \\left[\\begin{matrix}526315.789473684 & -526315.789473684\\\\-526315.789473684 & 526315.789473684\\end{matrix}\\right]$"
      ],
      "text/plain": [
       "Matrix([\n",
       "[ 526315.789473684, -526315.789473684],\n",
       "[-526315.789473684,  526315.789473684]])"
      ]
     },
     "metadata": {},
     "output_type": "display_data"
    }
   ],
   "source": [
    "T = 20/19\n",
    "L = 10 * T\n",
    "n_elementos = 1\n",
    "\n",
    "K_lin = K.subs({\n",
    "    A: 0.1 * 0.5 * T,\n",
    "    E: (10**8) * T,\n",
    "    h: L/n_elementos\n",
    "})\n",
    "\n",
    "display(K_lin)"
   ]
  },
  {
   "cell_type": "code",
   "execution_count": 80,
   "metadata": {},
   "outputs": [
    {
     "data": {
      "text/latex": [
       "$\\displaystyle \\left[\\begin{matrix}55.4016620498615\\\\55.4016620498615\\end{matrix}\\right]$"
      ],
      "text/plain": [
       "Matrix([\n",
       "[55.4016620498615],\n",
       "[55.4016620498615]])"
      ]
     },
     "metadata": {},
     "output_type": "display_data"
    }
   ],
   "source": [
    "f_lin = f.subs({\n",
    "    h: L/n_elementos,\n",
    "    q: 10 * T\n",
    "})\n",
    "display(f_lin)"
   ]
  },
  {
   "cell_type": "markdown",
   "metadata": {},
   "source": [
    "**Impondo Condições de Contorno de Dirichlet ($u(0) = 0$)**\n",
    "\n",
    "Conhecendo o valor em $u(0)$, podemos utilizar o método de eliminação:"
   ]
  },
  {
   "cell_type": "code",
   "execution_count": 81,
   "metadata": {},
   "outputs": [],
   "source": [
    "K_lin[0, 0] = 1.0\n",
    "K_lin[0, 1] = 0.0\n",
    "K_lin[1, 0] = 0.0\n",
    "f_lin[0]    = 0.0"
   ]
  },
  {
   "cell_type": "markdown",
   "metadata": {},
   "source": [
    "**Calculando Vetor de Deslocamentos $u$**"
   ]
  },
  {
   "cell_type": "code",
   "execution_count": 82,
   "metadata": {},
   "outputs": [
    {
     "data": {
      "text/latex": [
       "$\\displaystyle \\left[\\begin{matrix}1.0 & 0\\\\0 & 1.9 \\cdot 10^{-6}\\end{matrix}\\right]$"
      ],
      "text/plain": [
       "Matrix([\n",
       "[1.0,      0],\n",
       "[  0, 1.9e-6]])"
      ]
     },
     "metadata": {},
     "output_type": "display_data"
    },
    {
     "data": {
      "text/latex": [
       "$\\displaystyle \\left[\\begin{matrix}1.0 & 0\\\\0 & 1.9 \\cdot 10^{-6}\\end{matrix}\\right]$"
      ],
      "text/plain": [
       "Matrix([\n",
       "[1.0,      0],\n",
       "[  0, 1.9e-6]])"
      ]
     },
     "metadata": {},
     "output_type": "display_data"
    }
   ],
   "source": [
    "display(K_lin.inv())\n",
    "display(K_lin.inv())"
   ]
  },
  {
   "cell_type": "code",
   "execution_count": 83,
   "metadata": {},
   "outputs": [
    {
     "data": {
      "text/latex": [
       "$\\displaystyle \\left[\\begin{matrix}0\\\\0.000105263157894737\\end{matrix}\\right]$"
      ],
      "text/plain": [
       "Matrix([\n",
       "[                   0],\n",
       "[0.000105263157894737]])"
      ]
     },
     "metadata": {},
     "output_type": "display_data"
    }
   ],
   "source": [
    "u_lin = K_lin.inv() * f_lin\n",
    "display(u_lin)"
   ]
  },
  {
   "cell_type": "markdown",
   "metadata": {},
   "source": [
    "#### Aproximação Quadrática (5 elementos)\n",
    "\n",
    "Fazendo uma aproximação quadrática, temos que:\n",
    "\n",
    "$$\n",
    "u = u_1 \\phi _1 + u_2 \\phi _2 + u_3 \\phi _3\n",
    "$$\n",
    "\n",
    "Sendo as funções bases de Lagrange para este caso:\n",
    "\n",
    "$$\n",
    "\\phi _1 = 1 - \\frac{3x}{h} + \\frac{2x^2}{h^2}\n",
    "$$\n",
    "\n",
    "$$\n",
    "\\phi _2 = -\\frac{x}{h} + \\frac{2x^2}{h^2}\n",
    "$$\n",
    "\n",
    "$$\n",
    "\\phi _3 = \\frac{4x}{h} + \\frac{4x^2}{h^2}\n",
    "$$"
   ]
  },
  {
   "cell_type": "markdown",
   "metadata": {},
   "source": [
    "**Calculando Matriz de Rigidez para cada elemento**\n",
    "\n",
    "$$\n",
    "K^i = EA\n",
    "\\begin{bmatrix}\n",
    "\\int_0^h \\phi_1' \\phi_1' dx & \\int_0^h \\phi_1' \\phi_2' dx & \\int_0^h \\phi_1' \\phi_3' dx \\\\\n",
    "\\int_0^h \\phi_2' \\phi_1' dx & \\int_0^h \\phi_2' \\phi_2' dx & \\int_0^h \\phi_2' \\phi_3' dx \\\\\n",
    "\\int_0^h \\phi_2' \\phi_1' dx & \\int_0^h \\phi_3' \\phi_2' dx & \\int_0^h \\phi_3' \\phi_3' dx \n",
    "\\end{bmatrix}\n",
    "$$"
   ]
  },
  {
   "cell_type": "code",
   "execution_count": 89,
   "metadata": {},
   "outputs": [
    {
     "data": {
      "text/latex": [
       "$\\displaystyle \\left[\\begin{matrix}\\frac{7 A E}{3 h} & \\frac{A E}{3 h} & - \\frac{16 A E}{3 h}\\\\\\frac{A E}{3 h} & \\frac{7 A E}{3 h} & \\frac{32 A E}{3 h}\\\\- \\frac{16 A E}{3 h} & \\frac{32 A E}{3 h} & \\frac{208 A E}{3 h}\\end{matrix}\\right]$"
      ],
      "text/plain": [
       "Matrix([\n",
       "[  7*A*E/(3*h),    A*E/(3*h), -16*A*E/(3*h)],\n",
       "[    A*E/(3*h),  7*A*E/(3*h),  32*A*E/(3*h)],\n",
       "[-16*A*E/(3*h), 32*A*E/(3*h), 208*A*E/(3*h)]])"
      ]
     },
     "metadata": {},
     "output_type": "display_data"
    }
   ],
   "source": [
    "E, A, q, x, h = sp.symbols('E A q x h')\n",
    "\n",
    "phi_1 = 1 - 3*x/h + 2*(x**2)/(h**2)\n",
    "phi_2 = -x/h + 2 * (x**2)/(h**2)\n",
    "phi_3 = 4*x/h + 4*(x**2)/(h**2)\n",
    "\n",
    "integral_1 = sp.integrate(sp.diff(phi_1, x) * sp.diff(phi_1, x), (x, 0, h))\n",
    "integral_2 = sp.integrate(sp.diff(phi_1, x) * sp.diff(phi_2, x), (x, 0, h))\n",
    "integral_3 = sp.integrate(sp.diff(phi_1, x) * sp.diff(phi_3, x), (x, 0, h))\n",
    "\n",
    "integral_4 = sp.integrate(sp.diff(phi_2, x) * sp.diff(phi_1, x), (x, 0, h))\n",
    "integral_5 = sp.integrate(sp.diff(phi_2, x) * sp.diff(phi_2, x), (x, 0, h))\n",
    "integral_6 = sp.integrate(sp.diff(phi_2, x) * sp.diff(phi_3, x), (x, 0, h))\n",
    "\n",
    "integral_7 = sp.integrate(sp.diff(phi_3, x) * sp.diff(phi_1, x), (x, 0, h))\n",
    "integral_8 = sp.integrate(sp.diff(phi_3, x) * sp.diff(phi_2, x), (x, 0, h))\n",
    "integral_9 = sp.integrate(sp.diff(phi_3, x) * sp.diff(phi_3, x), (x, 0, h))\n",
    "\n",
    "K_ = E * A * sp.Matrix([\n",
    "    [integral_1, integral_2, integral_3], \n",
    "    [integral_4, integral_5, integral_6],\n",
    "    [integral_7, integral_8, integral_9]\n",
    "])\n",
    "display(K_)"
   ]
  },
  {
   "cell_type": "markdown",
   "metadata": {},
   "source": [
    "**Calculando Matriz de Rigidez Global**\n",
    "\n",
    "Para aproximações quadráticas e considerando que serão utilizados 5 elementos, temos que a matriz de rigidez global $K_G$ será dada por:\n",
    "\n",
    "$$\n",
    "K^i = EA\n",
    "\\begin{bmatrix}\n",
    "K^1_{11}        & K^1_{12}          & K^1_{13}          & 0             & 0                 & \\cdots & 0 & 0 & 0\\\\\n",
    "K^1_{21}        & K^1_{22}          & K^1_{23}          & 0             & 0                 & \\cdots & 0 & 0 & 0\\\\\n",
    "K^1_{31}        & K^1_{32}          & K^1_{33}+K^2_{11} & K^2_{12}      & K^2_{13}          & \\cdots & 0 & 0 & 0\\\\\n",
    "0               & 0                 & K^2_{21}          & K^2_{22}      & K^2_{23}          & \\cdots & 0 & 0 & 0\\\\\n",
    "0               & 0                 & K^2_{31}          & K^2_{32}      & K^2_{33}+K^3_{11} & \\cdots & 0 & 0 & 0\\\\\n",
    "\\vdots          & \\vdots            & \\vdots            & \\vdots        & \\vdots            & \\ddots            \\\\\n",
    "0               & 0                 & 0                 & 0             & 0                 & \\cdots & K^4_{33}+K^5_{11} & K^5_{12} & K^5_{13} \\\\\n",
    "0               & 0                 & 0                 & 0             & 0                 & \\cdots & K^5_{21} & K^5_{22} & K^5_{23} \\\\\n",
    "0               & 0                 & 0                 & 0             & 0                 & \\cdots & K^5_{31} & K^5_{32} & K^5_{33} \\\\\n",
    "\\end{bmatrix}\n",
    "$$"
   ]
  },
  {
   "cell_type": "markdown",
   "metadata": {},
   "source": [
    "#### Resultados"
   ]
  },
  {
   "cell_type": "code",
   "execution_count": 84,
   "metadata": {},
   "outputs": [],
   "source": [
    "import numpy as np\n",
    "from matplotlib import pyplot as plt"
   ]
  },
  {
   "cell_type": "code",
   "execution_count": 85,
   "metadata": {},
   "outputs": [
    {
     "data": {
      "image/png": "[encoded data removed]",
      "text/plain": [
       "<Figure size 640x480 with 1 Axes>"
      ]
     },
     "metadata": {},
     "output_type": "display_data"
    }
   ],
   "source": [
    "# funcoes\n",
    "\n",
    "def sol_analitica(x, E, A, q, c1, c2):\n",
    "    return -(1/(E*A)) * ((q * x**2/2) + c1 * x + c2)\n",
    "\n",
    "L = 10 * T\n",
    "E = (10 ** 8) * T\n",
    "A = 0.1 * 0.5 * T\n",
    "q = 10 * T\n",
    "\n",
    "c1 = -1 * q * L\n",
    "c2 = 0\n",
    "\n",
    "# dominio\n",
    "x_analitica = np.linspace(0, L)\n",
    "y_analitica = sol_analitica(x_analitica, E, A, q, c1, c2)\n",
    "\n",
    "\n",
    "# resultados\n",
    "plt.plot(x_analitica, y_analitica, label='Sol. Analítica')\n",
    "plt.plot([i*L for i in range(2)], u_lin, '-s', label='Sol. Linear')\n",
    "\n",
    "plt.xlabel('x (m)')\n",
    "plt.ylabel('Deslocamento (m)')\n",
    "plt.legend()\n",
    "plt.show()\n"
   ]
  },
  {
   "cell_type": "code",
   "execution_count": null,
   "metadata": {},
   "outputs": [],
   "source": []
  }
 ],
 "metadata": {
  "kernelspec": {
   "display_name": "Python 3 (ipykernel)",
   "language": "python",
   "name": "python3"
  },
  "language_info": {
   "codemirror_mode": {
    "name": "ipython",
    "version": 3
   },
   "file_extension": ".py",
   "mimetype": "text/x-python",
   "name": "python",
   "nbconvert_exporter": "python",
   "pygments_lexer": "ipython3",
   "version": "3.10.12"
  }
 },
 "nbformat": 4,
 "nbformat_minor": 2
}
