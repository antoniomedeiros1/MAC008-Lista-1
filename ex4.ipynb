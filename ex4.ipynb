{
 "cells": [
  {
   "cell_type": "markdown",
   "metadata": {},
   "source": [
    "### Exercício 4\n",
    "\n",
    "Dada uma barra com uma carga $P$ aplicada no meio do seu vão, conforme indicado na Figura, pede-se, utilizando elementos finitos lineares, calcular os deslocamentos da mesma adotando-se uma divisão de 2, 4 e 6 elementos lineares. Comparar os campos de deslocamentos obtidos com os deslocamentos exatos para o problema em questão. Considere:\n",
    "\n",
    "$$\n",
    "EA = 10^5 \\cdot (N + 1) (Newton) \\\\\n",
    "P = (N + 1) \\cdot 10^3 (Newton) \\\\\n",
    "l = 2 + \\frac{N+1}{20} (metro) = \\frac{41}{20} (metro)\n",
    "$$\n"
   ]
  },
  {
   "cell_type": "markdown",
   "metadata": {},
   "source": [
    "#### Resolução\n",
    "\n"
   ]
  },
  {
   "cell_type": "code",
   "execution_count": null,
   "metadata": {},
   "outputs": [],
   "source": []
  }
 ],
 "metadata": {
  "language_info": {
   "name": "python"
  }
 },
 "nbformat": 4,
 "nbformat_minor": 2
}
